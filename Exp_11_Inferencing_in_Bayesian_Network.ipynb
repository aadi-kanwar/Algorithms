{
  "nbformat": 4,
  "nbformat_minor": 0,
  "metadata": {
    "colab": {
      "provenance": [],
      "authorship_tag": "ABX9TyOU1rD568DboXLgOsdDtvia",
      "include_colab_link": true
    },
    "kernelspec": {
      "name": "python3",
      "display_name": "Python 3"
    },
    "language_info": {
      "name": "python"
    }
  },
  "cells": [
    {
      "cell_type": "markdown",
      "metadata": {
        "id": "view-in-github",
        "colab_type": "text"
      },
      "source": [
        "<a href=\"https://colab.research.google.com/github/aadi-kanwar/Algorithms/blob/main/Exp_11_Inferencing_in_Bayesian_Network.ipynb\" target=\"_parent\"><img src=\"https://colab.research.google.com/assets/colab-badge.svg\" alt=\"Open In Colab\"/></a>"
      ]
    },
    {
      "cell_type": "markdown",
      "source": [
        "12.11.2024"
      ],
      "metadata": {
        "id": "9Zh_NvMUGT2g"
      }
    },
    {
      "cell_type": "markdown",
      "source": [
        "## Install Library"
      ],
      "metadata": {
        "id": "fZoVuSmYFIF5"
      }
    },
    {
      "cell_type": "code",
      "execution_count": 1,
      "metadata": {
        "colab": {
          "base_uri": "https://localhost:8080/"
        },
        "id": "Lhz5rYpEErvi",
        "outputId": "ccc7cddc-85e9-45bc-8164-6a7b9b855c01"
      },
      "outputs": [
        {
          "output_type": "stream",
          "name": "stdout",
          "text": [
            "Collecting pgmpy\n",
            "  Downloading pgmpy-0.1.26-py3-none-any.whl.metadata (9.1 kB)\n",
            "Requirement already satisfied: networkx in /usr/local/lib/python3.10/dist-packages (from pgmpy) (3.4.2)\n",
            "Requirement already satisfied: numpy in /usr/local/lib/python3.10/dist-packages (from pgmpy) (1.26.4)\n",
            "Requirement already satisfied: scipy in /usr/local/lib/python3.10/dist-packages (from pgmpy) (1.13.1)\n",
            "Requirement already satisfied: scikit-learn in /usr/local/lib/python3.10/dist-packages (from pgmpy) (1.5.2)\n",
            "Requirement already satisfied: pandas in /usr/local/lib/python3.10/dist-packages (from pgmpy) (2.2.2)\n",
            "Requirement already satisfied: pyparsing in /usr/local/lib/python3.10/dist-packages (from pgmpy) (3.2.0)\n",
            "Requirement already satisfied: torch in /usr/local/lib/python3.10/dist-packages (from pgmpy) (2.5.0+cu121)\n",
            "Requirement already satisfied: statsmodels in /usr/local/lib/python3.10/dist-packages (from pgmpy) (0.14.4)\n",
            "Requirement already satisfied: tqdm in /usr/local/lib/python3.10/dist-packages (from pgmpy) (4.66.6)\n",
            "Requirement already satisfied: joblib in /usr/local/lib/python3.10/dist-packages (from pgmpy) (1.4.2)\n",
            "Requirement already satisfied: opt-einsum in /usr/local/lib/python3.10/dist-packages (from pgmpy) (3.4.0)\n",
            "Requirement already satisfied: xgboost in /usr/local/lib/python3.10/dist-packages (from pgmpy) (2.1.2)\n",
            "Requirement already satisfied: google-generativeai in /usr/local/lib/python3.10/dist-packages (from pgmpy) (0.8.3)\n",
            "Requirement already satisfied: google-ai-generativelanguage==0.6.10 in /usr/local/lib/python3.10/dist-packages (from google-generativeai->pgmpy) (0.6.10)\n",
            "Requirement already satisfied: google-api-core in /usr/local/lib/python3.10/dist-packages (from google-generativeai->pgmpy) (2.19.2)\n",
            "Requirement already satisfied: google-api-python-client in /usr/local/lib/python3.10/dist-packages (from google-generativeai->pgmpy) (2.137.0)\n",
            "Requirement already satisfied: google-auth>=2.15.0 in /usr/local/lib/python3.10/dist-packages (from google-generativeai->pgmpy) (2.27.0)\n",
            "Requirement already satisfied: protobuf in /usr/local/lib/python3.10/dist-packages (from google-generativeai->pgmpy) (3.20.3)\n",
            "Requirement already satisfied: pydantic in /usr/local/lib/python3.10/dist-packages (from google-generativeai->pgmpy) (2.9.2)\n",
            "Requirement already satisfied: typing-extensions in /usr/local/lib/python3.10/dist-packages (from google-generativeai->pgmpy) (4.12.2)\n",
            "Requirement already satisfied: proto-plus<2.0.0dev,>=1.22.3 in /usr/local/lib/python3.10/dist-packages (from google-ai-generativelanguage==0.6.10->google-generativeai->pgmpy) (1.25.0)\n",
            "Requirement already satisfied: python-dateutil>=2.8.2 in /usr/local/lib/python3.10/dist-packages (from pandas->pgmpy) (2.8.2)\n",
            "Requirement already satisfied: pytz>=2020.1 in /usr/local/lib/python3.10/dist-packages (from pandas->pgmpy) (2024.2)\n",
            "Requirement already satisfied: tzdata>=2022.7 in /usr/local/lib/python3.10/dist-packages (from pandas->pgmpy) (2024.2)\n",
            "Requirement already satisfied: threadpoolctl>=3.1.0 in /usr/local/lib/python3.10/dist-packages (from scikit-learn->pgmpy) (3.5.0)\n",
            "Requirement already satisfied: patsy>=0.5.6 in /usr/local/lib/python3.10/dist-packages (from statsmodels->pgmpy) (0.5.6)\n",
            "Requirement already satisfied: packaging>=21.3 in /usr/local/lib/python3.10/dist-packages (from statsmodels->pgmpy) (24.1)\n",
            "Requirement already satisfied: filelock in /usr/local/lib/python3.10/dist-packages (from torch->pgmpy) (3.16.1)\n",
            "Requirement already satisfied: jinja2 in /usr/local/lib/python3.10/dist-packages (from torch->pgmpy) (3.1.4)\n",
            "Requirement already satisfied: fsspec in /usr/local/lib/python3.10/dist-packages (from torch->pgmpy) (2024.10.0)\n",
            "Requirement already satisfied: sympy==1.13.1 in /usr/local/lib/python3.10/dist-packages (from torch->pgmpy) (1.13.1)\n",
            "Requirement already satisfied: mpmath<1.4,>=1.1.0 in /usr/local/lib/python3.10/dist-packages (from sympy==1.13.1->torch->pgmpy) (1.3.0)\n",
            "Requirement already satisfied: nvidia-nccl-cu12 in /usr/local/lib/python3.10/dist-packages (from xgboost->pgmpy) (2.23.4)\n",
            "Requirement already satisfied: googleapis-common-protos<2.0.dev0,>=1.56.2 in /usr/local/lib/python3.10/dist-packages (from google-api-core->google-generativeai->pgmpy) (1.65.0)\n",
            "Requirement already satisfied: requests<3.0.0.dev0,>=2.18.0 in /usr/local/lib/python3.10/dist-packages (from google-api-core->google-generativeai->pgmpy) (2.32.3)\n",
            "Requirement already satisfied: cachetools<6.0,>=2.0.0 in /usr/local/lib/python3.10/dist-packages (from google-auth>=2.15.0->google-generativeai->pgmpy) (5.5.0)\n",
            "Requirement already satisfied: pyasn1-modules>=0.2.1 in /usr/local/lib/python3.10/dist-packages (from google-auth>=2.15.0->google-generativeai->pgmpy) (0.4.1)\n",
            "Requirement already satisfied: rsa<5,>=3.1.4 in /usr/local/lib/python3.10/dist-packages (from google-auth>=2.15.0->google-generativeai->pgmpy) (4.9)\n",
            "Requirement already satisfied: six in /usr/local/lib/python3.10/dist-packages (from patsy>=0.5.6->statsmodels->pgmpy) (1.16.0)\n",
            "Requirement already satisfied: httplib2<1.dev0,>=0.19.0 in /usr/local/lib/python3.10/dist-packages (from google-api-python-client->google-generativeai->pgmpy) (0.22.0)\n",
            "Requirement already satisfied: google-auth-httplib2<1.0.0,>=0.2.0 in /usr/local/lib/python3.10/dist-packages (from google-api-python-client->google-generativeai->pgmpy) (0.2.0)\n",
            "Requirement already satisfied: uritemplate<5,>=3.0.1 in /usr/local/lib/python3.10/dist-packages (from google-api-python-client->google-generativeai->pgmpy) (4.1.1)\n",
            "Requirement already satisfied: MarkupSafe>=2.0 in /usr/local/lib/python3.10/dist-packages (from jinja2->torch->pgmpy) (3.0.2)\n",
            "Requirement already satisfied: annotated-types>=0.6.0 in /usr/local/lib/python3.10/dist-packages (from pydantic->google-generativeai->pgmpy) (0.7.0)\n",
            "Requirement already satisfied: pydantic-core==2.23.4 in /usr/local/lib/python3.10/dist-packages (from pydantic->google-generativeai->pgmpy) (2.23.4)\n",
            "Requirement already satisfied: grpcio<2.0dev,>=1.33.2 in /usr/local/lib/python3.10/dist-packages (from google-api-core[grpc]!=2.0.*,!=2.1.*,!=2.10.*,!=2.2.*,!=2.3.*,!=2.4.*,!=2.5.*,!=2.6.*,!=2.7.*,!=2.8.*,!=2.9.*,<3.0.0dev,>=1.34.1->google-ai-generativelanguage==0.6.10->google-generativeai->pgmpy) (1.64.1)\n",
            "Requirement already satisfied: grpcio-status<2.0.dev0,>=1.33.2 in /usr/local/lib/python3.10/dist-packages (from google-api-core[grpc]!=2.0.*,!=2.1.*,!=2.10.*,!=2.2.*,!=2.3.*,!=2.4.*,!=2.5.*,!=2.6.*,!=2.7.*,!=2.8.*,!=2.9.*,<3.0.0dev,>=1.34.1->google-ai-generativelanguage==0.6.10->google-generativeai->pgmpy) (1.48.2)\n",
            "Requirement already satisfied: pyasn1<0.7.0,>=0.4.6 in /usr/local/lib/python3.10/dist-packages (from pyasn1-modules>=0.2.1->google-auth>=2.15.0->google-generativeai->pgmpy) (0.6.1)\n",
            "Requirement already satisfied: charset-normalizer<4,>=2 in /usr/local/lib/python3.10/dist-packages (from requests<3.0.0.dev0,>=2.18.0->google-api-core->google-generativeai->pgmpy) (3.4.0)\n",
            "Requirement already satisfied: idna<4,>=2.5 in /usr/local/lib/python3.10/dist-packages (from requests<3.0.0.dev0,>=2.18.0->google-api-core->google-generativeai->pgmpy) (3.10)\n",
            "Requirement already satisfied: urllib3<3,>=1.21.1 in /usr/local/lib/python3.10/dist-packages (from requests<3.0.0.dev0,>=2.18.0->google-api-core->google-generativeai->pgmpy) (2.2.3)\n",
            "Requirement already satisfied: certifi>=2017.4.17 in /usr/local/lib/python3.10/dist-packages (from requests<3.0.0.dev0,>=2.18.0->google-api-core->google-generativeai->pgmpy) (2024.8.30)\n",
            "Downloading pgmpy-0.1.26-py3-none-any.whl (2.0 MB)\n",
            "\u001b[2K   \u001b[90m━━━━━━━━━━━━━━━━━━━━━━━━━━━━━━━━━━━━━━━━\u001b[0m \u001b[32m2.0/2.0 MB\u001b[0m \u001b[31m13.3 MB/s\u001b[0m eta \u001b[36m0:00:00\u001b[0m\n",
            "\u001b[?25hInstalling collected packages: pgmpy\n",
            "Successfully installed pgmpy-0.1.26\n"
          ]
        }
      ],
      "source": [
        "!pip install pgmpy"
      ]
    },
    {
      "cell_type": "markdown",
      "source": [
        "## Import Required Dependencies"
      ],
      "metadata": {
        "id": "ZunGQeQMFO2d"
      }
    },
    {
      "cell_type": "code",
      "source": [
        "import pgmpy.models\n",
        "import pgmpy.inference\n",
        "import networkx as nx\n",
        "import pylab as plt\n",
        "import matplotlib.pyplot as plt"
      ],
      "metadata": {
        "id": "RRCYV0i9E8p_"
      },
      "execution_count": 2,
      "outputs": []
    },
    {
      "cell_type": "markdown",
      "source": [
        "## Create Bayesian Network"
      ],
      "metadata": {
        "id": "yJ2jDvKIFSCX"
      }
    },
    {
      "cell_type": "code",
      "source": [
        "# Create a bayesian network\n",
        "model = pgmpy.models.BayesianNetwork([('Burglary', 'Alarm'), ('Earthquake', 'Alarm'),\n",
        "                                    ('Alarm', 'JohnCalls'), ('Alarm', 'MaryCalls')])\n",
        "cpd_burglary = pgmpy.factors.discrete.TabularCPD('Burglary', 2, [[0.001], [0.999]])\n",
        "cpd_earthquake = pgmpy.factors.discrete.TabularCPD('Earthquake', 2, [[0.002], [0.998]])\n",
        "cpd_alarm = pgmpy.factors.discrete.TabularCPD('Alarm', 2, [[0.95, 0.94, 0.29, 0.001],\n",
        "    [0.05, 0.06, 0.71, 0.999]], evidence=['Burglary', 'Earthquake'], evidence_card=[2, 2])\n",
        "cpd_john = pgmpy.factors.discrete.TabularCPD('JohnCalls', 2, [[0.90, 0.05],\n",
        "                         [0.10, 0.95]],  evidence=['Alarm'],  evidence_card=[2])\n",
        "cpd_mary = pgmpy.factors.discrete.TabularCPD('MaryCalls', 2, [[0.70, 0.01],\n",
        "                    [0.30, 0.99]],  evidence=['Alarm'],  evidence_card=[2])\n",
        "\n",
        "model.add_cpds(cpd_burglary, cpd_earthquake, cpd_alarm, cpd_john, cpd_mary)\n",
        "model.check_model()"
      ],
      "metadata": {
        "colab": {
          "base_uri": "https://localhost:8080/"
        },
        "id": "fG3T14GWE-QP",
        "outputId": "0b7ab4b1-b0e3-46cd-d347-d5d40d4a6d26"
      },
      "execution_count": 3,
      "outputs": [
        {
          "output_type": "execute_result",
          "data": {
            "text/plain": [
              "True"
            ]
          },
          "metadata": {},
          "execution_count": 3
        }
      ]
    },
    {
      "cell_type": "markdown",
      "source": [
        "## Print Probability Distributions"
      ],
      "metadata": {
        "id": "HJg5aafQFVI9"
      }
    },
    {
      "cell_type": "code",
      "source": [
        "# Print probability distributions\n",
        "print('Probability distribution, P(Burglary)')\n",
        "print(cpd_burglary)\n",
        "print()\n",
        "print('Probability distribution, P(Earthquake)')\n",
        "print(cpd_earthquake)\n",
        "print()\n",
        "print('Joint probability distribution, P(Alarm | Burglary, Earthquake)')\n",
        "print(cpd_alarm)\n",
        "print()\n",
        "print('Joint probability distribution, P(JohnCalls | Alarm)')\n",
        "print(cpd_john)\n",
        "print()\n",
        "print('Joint probability distribution, P(MaryCalls | Alarm)')\n",
        "print(cpd_mary)\n",
        "infer = pgmpy.inference.VariableElimination(model)"
      ],
      "metadata": {
        "colab": {
          "base_uri": "https://localhost:8080/"
        },
        "id": "OJQxEtq4FBtF",
        "outputId": "6b2140ac-8e8d-46cd-c612-265ab2579cec"
      },
      "execution_count": 4,
      "outputs": [
        {
          "output_type": "stream",
          "name": "stdout",
          "text": [
            "Probability distribution, P(Burglary)\n",
            "+-------------+-------+\n",
            "| Burglary(0) | 0.001 |\n",
            "+-------------+-------+\n",
            "| Burglary(1) | 0.999 |\n",
            "+-------------+-------+\n",
            "\n",
            "Probability distribution, P(Earthquake)\n",
            "+---------------+-------+\n",
            "| Earthquake(0) | 0.002 |\n",
            "+---------------+-------+\n",
            "| Earthquake(1) | 0.998 |\n",
            "+---------------+-------+\n",
            "\n",
            "Joint probability distribution, P(Alarm | Burglary, Earthquake)\n",
            "+------------+---------------+---------------+---------------+---------------+\n",
            "| Burglary   | Burglary(0)   | Burglary(0)   | Burglary(1)   | Burglary(1)   |\n",
            "+------------+---------------+---------------+---------------+---------------+\n",
            "| Earthquake | Earthquake(0) | Earthquake(1) | Earthquake(0) | Earthquake(1) |\n",
            "+------------+---------------+---------------+---------------+---------------+\n",
            "| Alarm(0)   | 0.95          | 0.94          | 0.29          | 0.001         |\n",
            "+------------+---------------+---------------+---------------+---------------+\n",
            "| Alarm(1)   | 0.05          | 0.06          | 0.71          | 0.999         |\n",
            "+------------+---------------+---------------+---------------+---------------+\n",
            "\n",
            "Joint probability distribution, P(JohnCalls | Alarm)\n",
            "+--------------+----------+----------+\n",
            "| Alarm        | Alarm(0) | Alarm(1) |\n",
            "+--------------+----------+----------+\n",
            "| JohnCalls(0) | 0.9      | 0.05     |\n",
            "+--------------+----------+----------+\n",
            "| JohnCalls(1) | 0.1      | 0.95     |\n",
            "+--------------+----------+----------+\n",
            "\n",
            "Joint probability distribution, P(MaryCalls | Alarm)\n",
            "+--------------+----------+----------+\n",
            "| Alarm        | Alarm(0) | Alarm(1) |\n",
            "+--------------+----------+----------+\n",
            "| MaryCalls(0) | 0.7      | 0.01     |\n",
            "+--------------+----------+----------+\n",
            "| MaryCalls(1) | 0.3      | 0.99     |\n",
            "+--------------+----------+----------+\n"
          ]
        }
      ]
    },
    {
      "cell_type": "markdown",
      "source": [
        "## Calculate the probability of Burgalary if...."
      ],
      "metadata": {
        "id": "M1vzTCTJFYQY"
      }
    },
    {
      "cell_type": "code",
      "source": [
        "# Calculate the probability of a burglary if John and Mary calls (0: True, 1: False)\n",
        "posterior_probability = infer.query(['Burglary'], evidence={'JohnCalls': 0, 'MaryCalls': 0})\n",
        "print('Posterior probability of Burglary if JohnCalls(True) and MaryCalls(True)')\n",
        "print(posterior_probability)\n",
        "print()"
      ],
      "metadata": {
        "colab": {
          "base_uri": "https://localhost:8080/"
        },
        "id": "Gorz5nQcFDN_",
        "outputId": "506d4770-dad6-4f45-daeb-02de3319d511"
      },
      "execution_count": 5,
      "outputs": [
        {
          "output_type": "stream",
          "name": "stdout",
          "text": [
            "Posterior probability of Burglary if JohnCalls(True) and MaryCalls(True)\n",
            "+-------------+-----------------+\n",
            "| Burglary    |   phi(Burglary) |\n",
            "+=============+=================+\n",
            "| Burglary(0) |          0.2842 |\n",
            "+-------------+-----------------+\n",
            "| Burglary(1) |          0.7158 |\n",
            "+-------------+-----------------+\n",
            "\n"
          ]
        }
      ]
    },
    {
      "cell_type": "markdown",
      "source": [
        "## Calculate the probability of alarm starting if there is a burgalary and an earthquake.\n",
        "### `0: False, 1: True`"
      ],
      "metadata": {
        "id": "uRaWbkvhFqwG"
      }
    },
    {
      "cell_type": "code",
      "source": [
        "# Calculate the probability of alarm starting if there is a burglary and an earthquake (0: True, 1: False)\n",
        "posterior_probability = infer.query(['Alarm'], evidence={'Burglary': 0, 'Earthquake': 0})\n",
        "print('Posterior probability of Alarm sounding if Burglary(True) and Earthquake(True)')\n",
        "print(posterior_probability)\n",
        "\n",
        "G = nx.DiGraph()\n",
        "G.add_nodes_from([\"Burglary\", \"Earthquake\", \"Alarm\", \"JohnCalls\",\"MaryCalls\"])\n",
        "G.add_edges_from([(\"Burglary\", \"Alarm\"), (\"Earthquake\", \"Alarm\"), (\"Alarm\", \"JohnCalls\"),(\"Alarm\", \"MaryCalls\")])\n",
        "nx.draw(G, with_labels=True, font_weight='bold')\n",
        "plt.show()\n"
      ],
      "metadata": {
        "colab": {
          "base_uri": "https://localhost:8080/",
          "height": 655
        },
        "id": "Gs2Bh8dbFEiT",
        "outputId": "652f3f97-4d71-4559-d984-9ed2b20721eb"
      },
      "execution_count": 6,
      "outputs": [
        {
          "output_type": "stream",
          "name": "stdout",
          "text": [
            "Posterior probability of Alarm sounding if Burglary(True) and Earthquake(True)\n",
            "+----------+--------------+\n",
            "| Alarm    |   phi(Alarm) |\n",
            "+==========+==============+\n",
            "| Alarm(0) |       0.9500 |\n",
            "+----------+--------------+\n",
            "| Alarm(1) |       0.0500 |\n",
            "+----------+--------------+\n"
          ]
        },
        {
          "output_type": "display_data",
          "data": {
            "text/plain": [
              "<Figure size 640x480 with 1 Axes>"
            ],
            "image/png": "[encoded data removed]"
          },
          "metadata": {}
        }
      ]
    }
  ]
}